{
 "cells": [
  {
   "cell_type": "markdown",
   "metadata": {},
   "source": [
    "# Exploratory data analysis with labeled data\n",
    "Now that we have the labels for our data, we can do some initial EDA to see if there is something different between the hackers and the valid users.\n",
    "\n",
    "## Setup"
   ]
  },
  {
   "cell_type": "code",
   "execution_count": 1,
   "metadata": {},
   "outputs": [
    {
     "data": {
      "text/html": [
       "<div>\n",
       "<style scoped>\n",
       "    .dataframe tbody tr th:only-of-type {\n",
       "        vertical-align: middle;\n",
       "    }\n",
       "\n",
       "    .dataframe tbody tr th {\n",
       "        vertical-align: top;\n",
       "    }\n",
       "\n",
       "    .dataframe thead th {\n",
       "        text-align: right;\n",
       "    }\n",
       "</style>\n",
       "<table border=\"1\" class=\"dataframe\">\n",
       "  <thead>\n",
       "    <tr style=\"text-align: right;\">\n",
       "      <th></th>\n",
       "      <th>start</th>\n",
       "      <th>end</th>\n",
       "      <th>source_ip</th>\n",
       "      <th>duration</th>\n",
       "      <th>start_floor</th>\n",
       "      <th>end_ceil</th>\n",
       "    </tr>\n",
       "  </thead>\n",
       "  <tbody>\n",
       "    <tr>\n",
       "      <th>0</th>\n",
       "      <td>2018-01-02 02:31:43.326264</td>\n",
       "      <td>2018-01-02 02:35:16.326264</td>\n",
       "      <td>102.139.159.128</td>\n",
       "      <td>0 days 00:03:33</td>\n",
       "      <td>2018-01-02 02:31:00</td>\n",
       "      <td>2018-01-02 02:36:00</td>\n",
       "    </tr>\n",
       "    <tr>\n",
       "      <th>1</th>\n",
       "      <td>2018-01-02 20:14:02.279476</td>\n",
       "      <td>2018-01-02 20:14:28.279476</td>\n",
       "      <td>119.218.239.234</td>\n",
       "      <td>0 days 00:00:26</td>\n",
       "      <td>2018-01-02 20:14:00</td>\n",
       "      <td>2018-01-02 20:15:00</td>\n",
       "    </tr>\n",
       "    <tr>\n",
       "      <th>2</th>\n",
       "      <td>2018-01-03 01:25:48.667114</td>\n",
       "      <td>2018-01-03 01:29:13.667114</td>\n",
       "      <td>151.93.164.203</td>\n",
       "      <td>0 days 00:03:25</td>\n",
       "      <td>2018-01-03 01:25:00</td>\n",
       "      <td>2018-01-03 01:30:00</td>\n",
       "    </tr>\n",
       "    <tr>\n",
       "      <th>3</th>\n",
       "      <td>2018-01-08 21:41:43.985324</td>\n",
       "      <td>2018-01-08 21:45:56.985324</td>\n",
       "      <td>226.98.192.152</td>\n",
       "      <td>0 days 00:04:13</td>\n",
       "      <td>2018-01-08 21:41:00</td>\n",
       "      <td>2018-01-08 21:46:00</td>\n",
       "    </tr>\n",
       "    <tr>\n",
       "      <th>4</th>\n",
       "      <td>2018-01-11 17:38:30.974748</td>\n",
       "      <td>2018-01-11 17:42:33.974748</td>\n",
       "      <td>23.81.78.129</td>\n",
       "      <td>0 days 00:04:03</td>\n",
       "      <td>2018-01-11 17:38:00</td>\n",
       "      <td>2018-01-11 17:43:00</td>\n",
       "    </tr>\n",
       "  </tbody>\n",
       "</table>\n",
       "</div>"
      ],
      "text/plain": [
       "                       start                        end        source_ip  \\\n",
       "0 2018-01-02 02:31:43.326264 2018-01-02 02:35:16.326264  102.139.159.128   \n",
       "1 2018-01-02 20:14:02.279476 2018-01-02 20:14:28.279476  119.218.239.234   \n",
       "2 2018-01-03 01:25:48.667114 2018-01-03 01:29:13.667114   151.93.164.203   \n",
       "3 2018-01-08 21:41:43.985324 2018-01-08 21:45:56.985324   226.98.192.152   \n",
       "4 2018-01-11 17:38:30.974748 2018-01-11 17:42:33.974748     23.81.78.129   \n",
       "\n",
       "         duration         start_floor            end_ceil  \n",
       "0 0 days 00:03:33 2018-01-02 02:31:00 2018-01-02 02:36:00  \n",
       "1 0 days 00:00:26 2018-01-02 20:14:00 2018-01-02 20:15:00  \n",
       "2 0 days 00:03:25 2018-01-03 01:25:00 2018-01-03 01:30:00  \n",
       "3 0 days 00:04:13 2018-01-08 21:41:00 2018-01-08 21:46:00  \n",
       "4 0 days 00:04:03 2018-01-11 17:38:00 2018-01-11 17:43:00  "
      ]
     },
     "execution_count": 1,
     "metadata": {},
     "output_type": "execute_result"
    }
   ],
   "source": [
    "%matplotlib inline\n",
    "import matplotlib.pyplot as plt\n",
    "import numpy as np\n",
    "import pandas as pd\n",
    "import seaborn as sns\n",
    "import sqlite3\n",
    "\n",
    "with sqlite3.connect('logs/logs.db') as conn:\n",
    "    logs_2018 = pd.read_sql(\n",
    "        'SELECT * FROM logs WHERE datetime BETWEEN \"2018-01-01\" AND \"2019-01-01\";', \n",
    "        conn, parse_dates=['datetime'], index_col='datetime'\n",
    "    )\n",
    "    hackers_2018 = pd.read_sql(\n",
    "        'SELECT * FROM attacks WHERE start BETWEEN \"2018-01-01\" AND \"2019-01-01\";', \n",
    "        conn, parse_dates=['start', 'end']\n",
    "    ).assign(\n",
    "        duration=lambda x: x.end - x.start, \n",
    "        start_floor=lambda x: x.start.dt.floor('min'),\n",
    "        end_ceil=lambda x: x.end.dt.ceil('min')\n",
    "    )\n",
    "hackers_2018.head()"
   ]
  },
  {
   "cell_type": "markdown",
   "metadata": {},
   "source": [
    "This function will tell us if the datetimes had hacker activity:"
   ]
  },
  {
   "cell_type": "code",
   "execution_count": 2,
   "metadata": {},
   "outputs": [],
   "source": [
    "def check_if_hacker(datetimes, hackers, resolution='1min'):\n",
    "    \"\"\"\n",
    "    Check whether a hacker attempted a log in during that time.\n",
    "    \n",
    "    Parameters:\n",
    "        - datetimes: The datetimes to check for hackers\n",
    "        - hackers: The dataframe indicating when the attacks started and stopped\n",
    "        - resolution: The granularity of the datetime. Default is 1 minute.\n",
    "        \n",
    "    Returns:\n",
    "        A pandas Series of booleans.\n",
    "    \"\"\"\n",
    "    date_ranges = hackers.apply(\n",
    "        lambda x: pd.date_range(x.start_floor, x.end_ceil, freq=resolution), \n",
    "        axis=1\n",
    "    )\n",
    "    dates = pd.Series(dtype='object')\n",
    "    for date_range in date_ranges:\n",
    "        dates = pd.concat([dates, date_range.to_series()])\n",
    "    return datetimes.isin(dates)"
   ]
  },
  {
   "cell_type": "markdown",
   "metadata": {},
   "source": [
    "Let's label our data for Q1 so we can look for a separation boundary:"
   ]
  },
  {
   "cell_type": "code",
   "execution_count": 3,
   "metadata": {},
   "outputs": [
    {
     "data": {
      "text/html": [
       "<div>\n",
       "<style scoped>\n",
       "    .dataframe tbody tr th:only-of-type {\n",
       "        vertical-align: middle;\n",
       "    }\n",
       "\n",
       "    .dataframe tbody tr th {\n",
       "        vertical-align: top;\n",
       "    }\n",
       "\n",
       "    .dataframe thead th {\n",
       "        text-align: right;\n",
       "    }\n",
       "</style>\n",
       "<table border=\"1\" class=\"dataframe\">\n",
       "  <thead>\n",
       "    <tr style=\"text-align: right;\">\n",
       "      <th></th>\n",
       "      <th>usernames_with_failures</th>\n",
       "      <th>failures</th>\n",
       "      <th>flag</th>\n",
       "    </tr>\n",
       "    <tr>\n",
       "      <th>datetime</th>\n",
       "      <th></th>\n",
       "      <th></th>\n",
       "      <th></th>\n",
       "    </tr>\n",
       "  </thead>\n",
       "  <tbody>\n",
       "    <tr>\n",
       "      <th>2018-01-01 00:08:00</th>\n",
       "      <td>1</td>\n",
       "      <td>1</td>\n",
       "      <td>False</td>\n",
       "    </tr>\n",
       "    <tr>\n",
       "      <th>2018-01-01 00:09:00</th>\n",
       "      <td>0</td>\n",
       "      <td>0</td>\n",
       "      <td>False</td>\n",
       "    </tr>\n",
       "    <tr>\n",
       "      <th>2018-01-01 00:10:00</th>\n",
       "      <td>0</td>\n",
       "      <td>0</td>\n",
       "      <td>False</td>\n",
       "    </tr>\n",
       "    <tr>\n",
       "      <th>2018-01-01 00:11:00</th>\n",
       "      <td>0</td>\n",
       "      <td>0</td>\n",
       "      <td>False</td>\n",
       "    </tr>\n",
       "    <tr>\n",
       "      <th>2018-01-01 00:12:00</th>\n",
       "      <td>0</td>\n",
       "      <td>0</td>\n",
       "      <td>False</td>\n",
       "    </tr>\n",
       "  </tbody>\n",
       "</table>\n",
       "</div>"
      ],
      "text/plain": [
       "                     usernames_with_failures  failures   flag\n",
       "datetime                                                     \n",
       "2018-01-01 00:08:00                        1         1  False\n",
       "2018-01-01 00:09:00                        0         0  False\n",
       "2018-01-01 00:10:00                        0         0  False\n",
       "2018-01-01 00:11:00                        0         0  False\n",
       "2018-01-01 00:12:00                        0         0  False"
      ]
     },
     "execution_count": 3,
     "metadata": {},
     "output_type": "execute_result"
    }
   ],
   "source": [
    "users_with_failures = logs_2018['2018-Q1'].assign(\n",
    "    failures=lambda x:  1 - x.success\n",
    ").query('failures > 0').resample('1min').agg(\n",
    "    {'username':'nunique', 'failures': 'sum'}\n",
    ").dropna().rename(\n",
    "    columns={'username':'usernames_with_failures'}\n",
    ")\n",
    "labels = check_if_hacker(users_with_failures.reset_index().datetime, hackers_2018)\n",
    "users_with_failures['flag'] = labels[:users_with_failures.shape[0]].values\n",
    "users_with_failures.head()"
   ]
  },
  {
   "cell_type": "markdown",
   "metadata": {},
   "source": [
    "Since we have the labels, we can draw a sample boundary that would separate most of the hackers from the valid users. Notice there is still at least one hacker in the valid users section of our separation:"
   ]
  },
  {
   "cell_type": "code",
   "execution_count": 4,
   "metadata": {},
   "outputs": [
    {
     "data": {
      "image/png": "[encoded data removed]",
      "text/plain": [
       "<Figure size 432x288 with 1 Axes>"
      ]
     },
     "metadata": {
      "needs_background": "light"
     },
     "output_type": "display_data"
    }
   ],
   "source": [
    "ax = sns.scatterplot(\n",
    "    x=users_with_failures.usernames_with_failures, \n",
    "    y=users_with_failures.failures, \n",
    "    alpha=0.25,\n",
    "    hue=users_with_failures.flag\n",
    ")\n",
    "ax.plot([0, 16], [30, -8], 'r--', label='sample boundary')\n",
    "plt.ylim(-4, None)\n",
    "plt.legend()\n",
    "plt.title('Usernames with failures on minute resolution')\n",
    "plt.savefig('labeled_data_sample_boundary.png', bbox_inches='tight')"
   ]
  }
 ],
 "metadata": {
  "kernelspec": {
   "display_name": "Python 3",
   "language": "python",
   "name": "python3"
  },
  "language_info": {
   "codemirror_mode": {
    "name": "ipython",
    "version": 3
   },
   "file_extension": ".py",
   "mimetype": "text/x-python",
   "name": "python",
   "nbconvert_exporter": "python",
   "pygments_lexer": "ipython3",
   "version": "3.7.3"
  }
 },
 "nbformat": 4,
 "nbformat_minor": 4
}
