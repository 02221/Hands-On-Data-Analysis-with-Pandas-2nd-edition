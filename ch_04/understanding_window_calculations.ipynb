{
 "cells": [
  {
   "cell_type": "markdown",
   "metadata": {},
   "source": [
    "# Understanding Window Calculations\n",
    "\n",
    "## About the Data\n",
    "In this notebook, we will be working with Facebook's stock price throughout 2018 (obtained using the [`stock_analysis` package](https://github.com/stefmolin/stock-analysis)).\n",
    "\n",
    "## Interactive Visualizations\n",
    "If you follow the installation instructions [here](https://github.com/matplotlib/jupyter-matplotlib), you can run the following code to generate an interactive plot to see what different window calculations look like. In order to use widgets, you will need to install `ipympl`, which can be done by running the following command in a new cell in this notebook:\n",
    "\n",
    "```python\n",
    "!pip3 install ipympl\n",
    "```\n",
    "\n",
    "Depending on your machine, you may also need to install `node.js` and with run a few commands from the command line as indicated in the aforementioned link. \n",
    "\n",
    "**Restart the kernel when you are setup.**"
   ]
  },
  {
   "cell_type": "code",
   "execution_count": 1,
   "metadata": {},
   "outputs": [
    {
     "data": {
      "application/vnd.jupyter.widget-view+json": {
       "model_id": "890414c1edbf4e79847bf47211c82743",
       "version_major": 2,
       "version_minor": 0
      },
      "text/plain": [
       "interactive(children=(IntSlider(value=20, description='period', max=200, step=5), Dropdown(description='window…"
      ]
     },
     "metadata": {},
     "output_type": "display_data"
    }
   ],
   "source": [
    "%matplotlib widget\n",
    "from ipywidgets import interact\n",
    "import matplotlib.pyplot as plt\n",
    "import pandas as pd\n",
    "\n",
    "fb = pd.read_csv('data/fb_2018.csv', index_col='date', parse_dates=True)\n",
    "\n",
    "def window_calculations(df):\n",
    "    def plot_viz(period=20, window_type='rolling', agg='mean'):\n",
    "        ax = df.plot(y='close')\n",
    "        window_func = getattr(df.close, window_type)\n",
    "        if window_type == 'rolling':\n",
    "            kwargs = {'window': period}\n",
    "        elif window_type == 'expanding':\n",
    "            kwargs = {'min_periods': period}\n",
    "        elif window_type == 'ewm':\n",
    "            kwargs = {'span': period}\n",
    "            if agg != 'mean':\n",
    "                print('Changing to mean')\n",
    "                agg = 'mean'\n",
    "        window_func(**kwargs).agg(agg).plot(ax=ax, label=f'{window_type} {period}D {agg}')\n",
    "\n",
    "        plt.suptitle('Window Calculations on Facebook Closing Price')\n",
    "        plt.title('(Note: EWM only works with mean)')\n",
    "        plt.ylabel('price ($)')\n",
    "        plt.legend()\n",
    "    \n",
    "    return plot_viz\n",
    "interact(\n",
    "    window_calculations(fb), \n",
    "    period=(0, 200, 5), \n",
    "    window_type=['rolling', 'expanding', 'ewm'], \n",
    "    agg=['sum', 'min', 'max', 'mean']\n",
    ");"
   ]
  },
  {
   "cell_type": "markdown",
   "metadata": {},
   "source": [
    "*More information on the `interact()` function can be found [here](https://ipywidgets.readthedocs.io/en/stable/examples/Using%20Interact.html).*"
   ]
  }
 ],
 "metadata": {
  "kernelspec": {
   "display_name": "Python 3",
   "language": "python",
   "name": "python3"
  },
  "language_info": {
   "codemirror_mode": {
    "name": "ipython",
    "version": 3
   },
   "file_extension": ".py",
   "mimetype": "text/x-python",
   "name": "python",
   "nbconvert_exporter": "python",
   "pygments_lexer": "ipython3",
   "version": "3.7.3"
  }
 },
 "nbformat": 4,
 "nbformat_minor": 4
}
