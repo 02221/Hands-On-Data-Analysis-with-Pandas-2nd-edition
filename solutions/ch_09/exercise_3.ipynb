{
 "cells": [
  {
   "cell_type": "markdown",
   "metadata": {},
   "source": [
    "# Predicting Whether a Planet Has a Shorter Year than Earth\n",
    "Using the Open Exoplanet Catalogue database: https://github.com/OpenExoplanetCatalogue/open_exoplanet_catalogue/\n",
    "\n",
    "## Data License\n",
    "Copyright (C) 2012 Hanno Rein\n",
    "\n",
    "Permission is hereby granted, free of charge, to any person obtaining a copy of this database and associated scripts (the \"Database\"), to deal in the Database without restriction, including without limitation the rights to use, copy, modify, merge, publish, distribute, sublicense, and/or sell copies of the Database, and to permit persons to whom the Database is furnished to do so, subject to the following conditions:\n",
    "\n",
    "The above copyright notice and this permission notice shall be included in all copies or substantial portions of the Database. A reference to the Database shall be included in all scientific publications that make use of the Database.\n",
    "\n",
    "THE DATABASE IS PROVIDED \"AS IS\", WITHOUT WARRANTY OF ANY KIND, EXPRESS OR IMPLIED, INCLUDING BUT NOT LIMITED TO THE WARRANTIES OF MERCHANTABILITY, FITNESS FOR A PARTICULAR PURPOSE AND NONINFRINGEMENT. IN NO EVENT SHALL THE AUTHORS OR COPYRIGHT HOLDERS BE LIABLE FOR ANY CLAIM, DAMAGES OR OTHER LIABILITY, WHETHER IN AN ACTION OF CONTRACT, TORT OR OTHERWISE, ARISING FROM, OUT OF OR IN CONNECTION WITH THE DATABASE OR THE USE OR OTHER DEALINGS IN THE DATABASE.\n",
    "\n",
    "## Setup"
   ]
  },
  {
   "cell_type": "code",
   "execution_count": 1,
   "metadata": {},
   "outputs": [
    {
     "data": {
      "text/html": [
       "<div>\n",
       "<style scoped>\n",
       "    .dataframe tbody tr th:only-of-type {\n",
       "        vertical-align: middle;\n",
       "    }\n",
       "\n",
       "    .dataframe tbody tr th {\n",
       "        vertical-align: top;\n",
       "    }\n",
       "\n",
       "    .dataframe thead th {\n",
       "        text-align: right;\n",
       "    }\n",
       "</style>\n",
       "<table border=\"1\" class=\"dataframe\">\n",
       "  <thead>\n",
       "    <tr style=\"text-align: right;\">\n",
       "      <th></th>\n",
       "      <th>mass</th>\n",
       "      <th>description</th>\n",
       "      <th>periastrontime</th>\n",
       "      <th>semimajoraxis</th>\n",
       "      <th>discoveryyear</th>\n",
       "      <th>list</th>\n",
       "      <th>eccentricity</th>\n",
       "      <th>period</th>\n",
       "      <th>discoverymethod</th>\n",
       "      <th>lastupdate</th>\n",
       "      <th>periastron</th>\n",
       "      <th>name</th>\n",
       "    </tr>\n",
       "  </thead>\n",
       "  <tbody>\n",
       "    <tr>\n",
       "      <th>0</th>\n",
       "      <td>19.400</td>\n",
       "      <td>11 Com b is a brown dwarf-mass companion to th...</td>\n",
       "      <td>2452899.60</td>\n",
       "      <td>1.290</td>\n",
       "      <td>2008.0</td>\n",
       "      <td>Confirmed planets</td>\n",
       "      <td>0.231</td>\n",
       "      <td>326.03</td>\n",
       "      <td>RV</td>\n",
       "      <td>15/09/20</td>\n",
       "      <td>94.800</td>\n",
       "      <td>11 Com b</td>\n",
       "    </tr>\n",
       "    <tr>\n",
       "      <th>1</th>\n",
       "      <td>11.200</td>\n",
       "      <td>11 Ursae Minoris is a star located in the cons...</td>\n",
       "      <td>2452861.04</td>\n",
       "      <td>1.540</td>\n",
       "      <td>2009.0</td>\n",
       "      <td>Confirmed planets</td>\n",
       "      <td>0.080</td>\n",
       "      <td>516.22</td>\n",
       "      <td>RV</td>\n",
       "      <td>15/09/20</td>\n",
       "      <td>117.630</td>\n",
       "      <td>11 UMi b</td>\n",
       "    </tr>\n",
       "    <tr>\n",
       "      <th>2</th>\n",
       "      <td>4.800</td>\n",
       "      <td>14 Andromedae is an evolved star in the conste...</td>\n",
       "      <td>2452861.40</td>\n",
       "      <td>0.830</td>\n",
       "      <td>2008.0</td>\n",
       "      <td>Confirmed planets</td>\n",
       "      <td>0.000</td>\n",
       "      <td>185.84</td>\n",
       "      <td>RV</td>\n",
       "      <td>15/09/20</td>\n",
       "      <td>0.000</td>\n",
       "      <td>14 And b</td>\n",
       "    </tr>\n",
       "    <tr>\n",
       "      <th>3</th>\n",
       "      <td>4.975</td>\n",
       "      <td>The star 14 Herculis is only 59 light years aw...</td>\n",
       "      <td>NaN</td>\n",
       "      <td>2.864</td>\n",
       "      <td>2002.0</td>\n",
       "      <td>Confirmed planets</td>\n",
       "      <td>0.359</td>\n",
       "      <td>1766.00</td>\n",
       "      <td>RV</td>\n",
       "      <td>15/09/21</td>\n",
       "      <td>22.230</td>\n",
       "      <td>14 Her b</td>\n",
       "    </tr>\n",
       "    <tr>\n",
       "      <th>4</th>\n",
       "      <td>7.679</td>\n",
       "      <td>14 Her c is the second companion in the system...</td>\n",
       "      <td>NaN</td>\n",
       "      <td>9.037</td>\n",
       "      <td>2006.0</td>\n",
       "      <td>Controversial</td>\n",
       "      <td>0.184</td>\n",
       "      <td>9886.00</td>\n",
       "      <td>RV</td>\n",
       "      <td>15/09/21</td>\n",
       "      <td>189.076</td>\n",
       "      <td>14 Her c</td>\n",
       "    </tr>\n",
       "  </tbody>\n",
       "</table>\n",
       "</div>"
      ],
      "text/plain": [
       "     mass                                        description  periastrontime  \\\n",
       "0  19.400  11 Com b is a brown dwarf-mass companion to th...      2452899.60   \n",
       "1  11.200  11 Ursae Minoris is a star located in the cons...      2452861.04   \n",
       "2   4.800  14 Andromedae is an evolved star in the conste...      2452861.40   \n",
       "3   4.975  The star 14 Herculis is only 59 light years aw...             NaN   \n",
       "4   7.679  14 Her c is the second companion in the system...             NaN   \n",
       "\n",
       "   semimajoraxis  discoveryyear               list  eccentricity   period  \\\n",
       "0          1.290         2008.0  Confirmed planets         0.231   326.03   \n",
       "1          1.540         2009.0  Confirmed planets         0.080   516.22   \n",
       "2          0.830         2008.0  Confirmed planets         0.000   185.84   \n",
       "3          2.864         2002.0  Confirmed planets         0.359  1766.00   \n",
       "4          9.037         2006.0      Controversial         0.184  9886.00   \n",
       "\n",
       "  discoverymethod lastupdate  periastron      name  \n",
       "0              RV   15/09/20      94.800  11 Com b  \n",
       "1              RV   15/09/20     117.630  11 UMi b  \n",
       "2              RV   15/09/20       0.000  14 And b  \n",
       "3              RV   15/09/21      22.230  14 Her b  \n",
       "4              RV   15/09/21     189.076  14 Her c  "
      ]
     },
     "execution_count": 1,
     "metadata": {},
     "output_type": "execute_result"
    }
   ],
   "source": [
    "%matplotlib inline\n",
    "\n",
    "import matplotlib.pyplot as plt\n",
    "import numpy as np\n",
    "import pandas as pd\n",
    "import seaborn as sns\n",
    "\n",
    "planets = pd.read_csv('../../ch_09/data/planets.csv')\n",
    "planets.head()"
   ]
  },
  {
   "cell_type": "markdown",
   "metadata": {},
   "source": [
    "## Creating the `shorter_year_than_earth` column"
   ]
  },
  {
   "cell_type": "code",
   "execution_count": 2,
   "metadata": {},
   "outputs": [
    {
     "data": {
      "text/plain": [
       "True     3481\n",
       "False     613\n",
       "Name: shorter_year_than_earth, dtype: int64"
      ]
     },
     "execution_count": 2,
     "metadata": {},
     "output_type": "execute_result"
    }
   ],
   "source": [
    "planets['shorter_year_than_earth'] = planets.period < planets.query('name == \"Earth\"').period.iat[0]\n",
    "planets.shorter_year_than_earth.value_counts()"
   ]
  },
  {
   "cell_type": "markdown",
   "metadata": {},
   "source": [
    "## Logistic Regression"
   ]
  },
  {
   "cell_type": "code",
   "execution_count": 3,
   "metadata": {},
   "outputs": [
    {
     "data": {
      "text/plain": [
       "0.9773462783171522"
      ]
     },
     "execution_count": 3,
     "metadata": {},
     "output_type": "execute_result"
    }
   ],
   "source": [
    "from sklearn.linear_model import LogisticRegression\n",
    "from sklearn.model_selection import train_test_split\n",
    "\n",
    "data = planets[['shorter_year_than_earth', 'semimajoraxis', 'mass', 'eccentricity']].dropna()\n",
    "y = data.pop('shorter_year_than_earth')\n",
    "X = data\n",
    "\n",
    "X_train, X_test, y_train, y_test = train_test_split(\n",
    "    X, y, test_size=0.25, random_state=0, stratify=y\n",
    ")\n",
    "\n",
    "lm = LogisticRegression(solver='lbfgs', random_state=0).fit(X_train, y_train)\n",
    "lm.score(X_test, y_test) "
   ]
  },
  {
   "cell_type": "markdown",
   "metadata": {},
   "source": [
    "## Evaluation\n",
    "Make predictions"
   ]
  },
  {
   "cell_type": "code",
   "execution_count": 4,
   "metadata": {},
   "outputs": [],
   "source": [
    "preds = lm.predict(X_test)"
   ]
  },
  {
   "cell_type": "markdown",
   "metadata": {},
   "source": [
    "Get performance metrics"
   ]
  },
  {
   "cell_type": "code",
   "execution_count": 5,
   "metadata": {},
   "outputs": [
    {
     "name": "stdout",
     "output_type": "stream",
     "text": [
      "              precision    recall  f1-score   support\n",
      "\n",
      "       False       0.98      0.95      0.97       103\n",
      "        True       0.98      0.99      0.98       206\n",
      "\n",
      "    accuracy                           0.98       309\n",
      "   macro avg       0.98      0.97      0.97       309\n",
      "weighted avg       0.98      0.98      0.98       309\n",
      "\n"
     ]
    }
   ],
   "source": [
    "from sklearn.metrics import classification_report\n",
    "print(classification_report(y_test, preds))"
   ]
  },
  {
   "cell_type": "code",
   "execution_count": 6,
   "metadata": {},
   "outputs": [
    {
     "data": {
      "text/plain": [
       "<AxesSubplot:title={'center':'ROC curve'}, xlabel='False Positive Rate (FPR)', ylabel='True Positive Rate (TPR)'>"
      ]
     },
     "execution_count": 6,
     "metadata": {},
     "output_type": "execute_result"
    },
    {
     "data": {
      "image/png": "[encoded data removed]",
      "text/plain": [
       "<Figure size 432x288 with 1 Axes>"
      ]
     },
     "metadata": {
      "needs_background": "light"
     },
     "output_type": "display_data"
    }
   ],
   "source": [
    "from ml_utils.classification import plot_roc\n",
    "\n",
    "plot_roc(y_test, lm.predict_proba(X_test)[:,1])"
   ]
  },
  {
   "cell_type": "code",
   "execution_count": 7,
   "metadata": {},
   "outputs": [
    {
     "data": {
      "text/plain": [
       "<AxesSubplot:title={'center':'Confusion Matrix'}, xlabel='Actual', ylabel='Model Prediction'>"
      ]
     },
     "execution_count": 7,
     "metadata": {},
     "output_type": "execute_result"
    },
    {
     "data": {
      "image/png": "[encoded data removed]",
      "text/plain": [
       "<Figure size 432x288 with 2 Axes>"
      ]
     },
     "metadata": {
      "needs_background": "light"
     },
     "output_type": "display_data"
    }
   ],
   "source": [
    "from ml_utils.classification import confusion_matrix_visual\n",
    "\n",
    "confusion_matrix_visual(y_test, preds, ['>=', 'shorter'])"
   ]
  }
 ],
 "metadata": {
  "kernelspec": {
   "display_name": "Python 3",
   "language": "python",
   "name": "python3"
  },
  "language_info": {
   "codemirror_mode": {
    "name": "ipython",
    "version": 3
   },
   "file_extension": ".py",
   "mimetype": "text/x-python",
   "name": "python",
   "nbconvert_exporter": "python",
   "pygments_lexer": "ipython3",
   "version": "3.7.3"
  }
 },
 "nbformat": 4,
 "nbformat_minor": 4
}
